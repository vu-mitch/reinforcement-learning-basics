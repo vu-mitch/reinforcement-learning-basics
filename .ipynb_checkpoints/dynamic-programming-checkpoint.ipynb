{
 "cells": [
  {
   "cell_type": "markdown",
   "metadata": {},
   "source": [
    "# Assignment 2 - Dynamic Programming\n",
    "\n",
    "<div class=\"alert alert-info\">\n",
    "\n",
    "\n",
    "- Implement DP Policy Evaluation (4 Points)\n",
    "- Implement DP Policy Improvement (3 Points)\n",
    "- Implement DP Policy Iteration (2 Point)\n",
    "- Implement DP Value Iteration (6 Points)\n"
   ]
  },
  {
   "cell_type": "markdown",
   "metadata": {},
   "source": [
    "# The Fishlake Environment\n",
    "\n",
    "You should be familiar with the inner workings of the `Fishlake` Environment from the lecture slides. We will now use this environment to test dynamic programming prediction and control algorithms.\n",
    "\n",
    "If you `render` the environment, it will look something like this:\n",
    "```\n",
    "WWWM\n",
    "WRWF\n",
    "SWWW\n",
    "\n",
    "W ... W.ater (may be very streamy, and mess with the fish's movement)\n",
    "S ... S.tart (a state in which the fish may start an episode)\n",
    "R ... R.ock (this is essentially a hole in the map, it is not a state!)\n",
    "\n",
    "M ... M.aize (delicious fish food; entering this state from any other\n",
    "              state will give +1 reward, and end the episode)\n",
    "F ... F.isherman (evil; entering this state from any other state will\n",
    "                  give -1 reward, and end the episode)\n",
    "```"
   ]
  },
  {
   "cell_type": "markdown",
   "metadata": {},
   "source": [
    "<h2>Preliminaries</h2>\n",
    "\n",
    "What follows are the imports, the generation of the environment and some helper functions. You have to run this cell first, before starting to implement and run your algorithms."
   ]
  },
  {
   "cell_type": "code",
   "execution_count": 1,
   "metadata": {},
   "outputs": [],
   "source": [
    "import matplotlib.pyplot as plt\n",
    "import numpy as np\n",
    "import gym\n",
    "import fishlake\n",
    "from fishlake import plot_policy, plot_value_function\n",
    "\n",
    "np.set_printoptions(precision=4, suppress=True, threshold=200)"
   ]
  },
  {
   "cell_type": "markdown",
   "metadata": {},
   "source": [
    "## Quickstart\n",
    "\n",
    "Here we give you a few hints on how to use the openai gym, what the data formats look like, etc.\n",
    "\n",
    "### Loading the Environment and Moving Around"
   ]
  },
  {
   "cell_type": "code",
   "execution_count": 2,
   "metadata": {},
   "outputs": [
    {
     "name": "stdout",
     "output_type": "stream",
     "text": [
      "start state 8\n",
      "\n",
      "WWWM\n",
      "WRWF\n",
      "\u001b[41mS\u001b[0mWWW\n"
     ]
    }
   ],
   "source": [
    "# load the environment\n",
    "lake_env = gym.make('FishlakeStreamy-v0')\n",
    "\n",
    "# reset it (set it back to its inital state (not strictly necessary here...))\n",
    "start_state = lake_env.reset()\n",
    "\n",
    "# if there's only one 'S' tile in the lake description, than the agent will start in this state with probability = 1\n",
    "print('start state', start_state)\n",
    "\n",
    "# let's start by looking at our environment\n",
    "lake_env.render()"
   ]
  },
  {
   "cell_type": "code",
   "execution_count": 3,
   "metadata": {},
   "outputs": [
    {
     "name": "stdout",
     "output_type": "stream",
     "text": [
      "(9, 0, False, {'prob': 0.8})\n"
     ]
    }
   ],
   "source": [
    "# now let's try to move around:\n",
    "result = lake_env.step(2) # let's try to move right\n",
    "print(result)\n",
    "# the result will look something like this:\n",
    "# (9, 0, False, {'prob': 0.8})"
   ]
  },
  {
   "cell_type": "code",
   "execution_count": 4,
   "metadata": {},
   "outputs": [
    {
     "name": "stdout",
     "output_type": "stream",
     "text": [
      "  (Right)\n",
      "WWWM\n",
      "WRWF\n",
      "S\u001b[41mW\u001b[0mWW\n"
     ]
    }
   ],
   "source": [
    "# (9, 0, ...           means that we are now in state 9, and we got 0 reward for our last step\n",
    "# ..., False, ...      means it is not a goal state\n",
    "# ..., {'prob': 0.8})  denotes the transition probability from the previous state to the current state\n",
    "\n",
    "# we can have another look at our environment (chances are that the agent moved away from the inital square)\n",
    "lake_env.render()"
   ]
  },
  {
   "cell_type": "markdown",
   "metadata": {},
   "source": [
    "### Accessing Information about the Environment"
   ]
  },
  {
   "cell_type": "code",
   "execution_count": 5,
   "metadata": {},
   "outputs": [
    {
     "name": "stdout",
     "output_type": "stream",
     "text": [
      "Number of States:  11\n",
      "Number of Actions:  4\n"
     ]
    }
   ],
   "source": [
    "# we have perfect information about our environment (and you should make use of it in your code...):\n",
    "print(\"Number of States: \", lake_env.observation_space.n)  # we can access the number of states\n",
    "print(\"Number of Actions: \", lake_env.action_space.n)          # we can access the number of actions"
   ]
  },
  {
   "cell_type": "code",
   "execution_count": 6,
   "metadata": {},
   "outputs": [
    {
     "name": "stdout",
     "output_type": "stream",
     "text": [
      "\n",
      "For example, the dynamics for state 2 look like this:\n",
      "{0: [(0.8, 1, 0, False), (0.1, 2, 0, False), (0.1, 5, 0, False)], 2: [(0.8, 3, 1, True), (0.1, 2, 0, False), (0.1, 5, 0, False)], 3: [(0.8, 2, 0, False), (0.1, 1, 0, False), (0.1, 3, 1, True)], 1: [(0.8, 5, 0, False), (0.1, 1, 0, False), (0.1, 3, 1, True)]}\n",
      "\n",
      "And if the agent is in state 1 and chooses action 3, these are the dynamics:\n",
      "[(0.8, 1, 0, False), (0.1, 0, 0, False), (0.1, 2, 0, False)]\n"
     ]
    }
   ],
   "source": [
    "# the dynamics are given as a dictionary containing dictionaries containing lists\n",
    "# you can print the full dynamics by uncommenting the next line (it's a lot of text...)\n",
    "# print(\"Dynamics: \", lake_env.P)\n",
    "state = 2\n",
    "print(f\"\\nFor example, the dynamics for state {state} look like this:\")\n",
    "print(lake_env.P[state])\n",
    "\n",
    "state = 1\n",
    "action = 3\n",
    "print(f\"\\nAnd if the agent is in state {state} and chooses action {action}, these are the dynamics:\")\n",
    "print(lake_env.P[state][action])"
   ]
  },
  {
   "cell_type": "code",
   "execution_count": 7,
   "metadata": {},
   "outputs": [
    {
     "name": "stdout",
     "output_type": "stream",
     "text": [
      "\n",
      "Let's iterate over the possible successor states, if we are in state 1 and select action 2:\n",
      "0.8 2 0\n",
      "0.1 1 0\n",
      "0.1 1 0\n"
     ]
    }
   ],
   "source": [
    "state = 1\n",
    "action = 2\n",
    "print(f\"\\nLet's iterate over the possible successor states, if we are in state {state} and select action {action}:\")\n",
    "for p_next_state, next_state, reward, _ in lake_env.P[state][action]:\n",
    "    print(p_next_state, next_state, reward)"
   ]
  },
  {
   "cell_type": "markdown",
   "metadata": {},
   "source": [
    "### Storing the Policy and the Value Function\n",
    "We will use a 2 dimensional `np.array` to store policies.\n",
    "- the number of rows is given by the number of states\n",
    "- the number of columns is given by the number of actions"
   ]
  },
  {
   "cell_type": "code",
   "execution_count": 8,
   "metadata": {},
   "outputs": [
    {
     "name": "stdout",
     "output_type": "stream",
     "text": [
      "The random policy:\n",
      "[[0.25 0.25 0.25 0.25]\n",
      " [0.25 0.25 0.25 0.25]\n",
      " [0.25 0.25 0.25 0.25]\n",
      " [0.25 0.25 0.25 0.25]\n",
      " [0.25 0.25 0.25 0.25]\n",
      " [0.25 0.25 0.25 0.25]\n",
      " [0.25 0.25 0.25 0.25]\n",
      " [0.25 0.25 0.25 0.25]\n",
      " [0.25 0.25 0.25 0.25]\n",
      " [0.25 0.25 0.25 0.25]\n",
      " [0.25 0.25 0.25 0.25]]\n",
      "\n",
      "Let's plot the random policy:\n"
     ]
    },
    {
     "data": {
      "image/png": "[encoded data removed]",
      "text/plain": [
       "<Figure size 432x288 with 1 Axes>"
      ]
     },
     "metadata": {
      "needs_background": "light"
     },
     "output_type": "display_data"
    }
   ],
   "source": [
    "# let's create a random policy:\n",
    "random_policy = np.ones([\n",
    "    lake_env.observation_space.n,\n",
    "    lake_env.action_space.n\n",
    "])\n",
    "random_policy = random_policy / lake_env.action_space.n\n",
    "\n",
    "print(\"The random policy:\")\n",
    "print(random_policy)\n",
    "\n",
    "print(\"\\nLet's plot the random policy:\")\n",
    "fig, ax = plt.subplots()\n",
    "plot_policy(ax, lake_env, random_policy)\n",
    "plt.show()"
   ]
  },
  {
   "cell_type": "markdown",
   "metadata": {},
   "source": [
    "We will use a 1 dimensional `np.array` to store value functions.\n",
    "\n",
    "The length of this array is given by the number of states"
   ]
  },
  {
   "cell_type": "code",
   "execution_count": 9,
   "metadata": {},
   "outputs": [
    {
     "name": "stdout",
     "output_type": "stream",
     "text": [
      "\n",
      "A Value Function, initialized with 0:\n",
      "\n",
      "[0. 0. 0. 0. 0. 0. 0. 0. 0. 0. 0.]\n",
      "\n",
      "Let's plot the all-zero value function:\n"
     ]
    },
    {
     "data": {
      "image/png": "[encoded data removed]",
      "text/plain": [
       "<Figure size 432x288 with 1 Axes>"
      ]
     },
     "metadata": {
      "needs_background": "light"
     },
     "output_type": "display_data"
    }
   ],
   "source": [
    "V = np.zeros(lake_env.observation_space.n)\n",
    "\n",
    "print(\"\\nA Value Function, initialized with 0:\\n\")\n",
    "print(V)\n",
    "\n",
    "print(\"\\nLet's plot the all-zero value function:\")\n",
    "fig, ax = plt.subplots()\n",
    "plot_value_function(ax, lake_env, V)\n",
    "plt.show()"
   ]
  },
  {
   "cell_type": "markdown",
   "metadata": {},
   "source": [
    "## (1) Policy Evaluation (4 points)\n",
    "\n",
    "This is the first function you have to implement. We would suggest that you implement the in-place version of policy evaluation, as it is the simpler (and also the preferable) variant."
   ]
  },
  {
   "cell_type": "code",
   "execution_count": 11,
   "metadata": {},
   "outputs": [],
   "source": [
    "def policy_evaluation(env, policy, initial_V, gamma, theta=1e-8):\n",
    "    \"\"\"\n",
    "    Policy Evaluation via Dynamic Programming\n",
    "    \n",
    "    Args:\n",
    "        env: the openai gym environment\n",
    "        policy: the policy to be evaluated\n",
    "        initial_V: the initial value function\n",
    "        gamma: the discount factor\n",
    "        theta: the stopping criterion (leave this alone)\n",
    "    \n",
    "    Returns:\n",
    "        the value function for a given policy\n",
    "    \"\"\"\n",
    "    V = initial_V.copy()\n",
    "    \n",
    "    while True:\n",
    "        delta = 0\n",
    "        for s in env.P:\n",
    "            v = 0\n",
    "            for a, pa in enumerate(policy[s]):\n",
    "                for ps, s_, r, _ in env.env.P[s][a]:\n",
    "                    # p: transition probability (s,a) to (s')\n",
    "                    # s_ : next state (s')\n",
    "                    # r: reward on transition (s,a) to (s')\n",
    "                    v += pa * ps * (r + gamma * V[s_])\n",
    "    \n",
    "            delta = max(delta, np.abs(v - V[s]))\n",
    "            V[s] = v\n",
    "            \n",
    "        if delta < theta: break\n",
    "            \n",
    "    return V"
   ]
  },
  {
   "cell_type": "markdown",
   "metadata": {},
   "source": [
    "### Run DP Policy Evaluation \n",
    "Okay, let's now run the implemented algorithm on the fishlake environment."
   ]
  },
  {
   "cell_type": "code",
   "execution_count": 12,
   "metadata": {},
   "outputs": [
    {
     "data": {
      "image/png": "[encoded data removed]",
      "text/plain": [
       "<Figure size 432x288 with 2 Axes>"
      ]
     },
     "metadata": {
      "needs_background": "light"
     },
     "output_type": "display_data"
    }
   ],
   "source": [
    "# let's create a random policy:\n",
    "random_policy = np.ones([\n",
    "    lake_env.observation_space.n,\n",
    "    lake_env.action_space.n\n",
    "])\n",
    "random_policy = random_policy / lake_env.action_space.n\n",
    "\n",
    "fig, axes = plt.subplots(ncols=2)\n",
    "plot_policy(axes[0], lake_env, random_policy)\n",
    "\n",
    "# we will now evaluate the random policy, and obtain its associated value function\n",
    "initial_V = np.zeros(lake_env.observation_space.n)\n",
    "V = policy_evaluation(lake_env, random_policy, initial_V, gamma=0.9)\n",
    "\n",
    "plot_value_function(axes[1], lake_env, V)\n",
    "axes[0].set_title('$\\pi(a | s)$')\n",
    "axes[1].set_title('$v_{\\pi}(s)$')\n",
    "plt.show()"
   ]
  },
  {
   "cell_type": "markdown",
   "metadata": {},
   "source": [
    "## (2) Policy Improvement (3 points)\n",
    "\n",
    "Here you have to implement the policy improvement algorithm. We will use this algorithm later on within the policy iteration algorithm to compute the optimal policy."
   ]
  },
  {
   "cell_type": "code",
   "execution_count": 13,
   "metadata": {},
   "outputs": [],
   "source": [
    "def policy_improvement(env, old_policy, V, gamma):\n",
    "    \"\"\"\n",
    "    Policy Improvement\n",
    "    \n",
    "    Args:\n",
    "        env: the openai gym environment\n",
    "        old_policy: the policy to be evaluated\n",
    "        V: the value function of the policy\n",
    "        gamma: discount factor\n",
    "    \n",
    "    Returns:\n",
    "        a tuple consisting of the improved policy (a numpy array)\n",
    "        and a boolean, indicating it the policy is stable (i.e. was not changed)\n",
    "    \"\"\"\n",
    "    improved_policy = np.zeros_like(old_policy)\n",
    "    policy_stable = True\n",
    "    # TODO\n",
    "    \n",
    "    # iterate over all states\n",
    "    for s in env.P:\n",
    "        old_action = np.argmax(old_policy[s])\n",
    "        action_values = np.zeros(env.action_space.n)\n",
    "        # iterate over all actions\n",
    "        for a in range(env.action_space.n):\n",
    "            # get dynamics\n",
    "            for prob, next_s, reward, done in env.env.P[s][a]:\n",
    "                action_values[a] += prob * (reward + gamma * V[next_s])\n",
    "        \n",
    "        new_action = np.argmax(action_values)\n",
    "        \n",
    "        if old_action != new_action:\n",
    "            policy_stable = False \n",
    "            improved_policy[s] = np.eye(env.action_space.n)[new_action]\n",
    "        else:\n",
    "            improved_policy[s] = np.eye(env.action_space.n)[old_action]\n",
    "\n",
    "    return improved_policy, policy_stable"
   ]
  },
  {
   "cell_type": "markdown",
   "metadata": {},
   "source": [
    "### Run Policy Improvement"
   ]
  },
  {
   "cell_type": "code",
   "execution_count": 14,
   "metadata": {},
   "outputs": [
    {
     "data": {
      "image/png": "[encoded data removed]",
      "text/plain": [
       "<Figure size 720x432 with 4 Axes>"
      ]
     },
     "metadata": {
      "needs_background": "light"
     },
     "output_type": "display_data"
    }
   ],
   "source": [
    "gamma = 0.9\n",
    "\n",
    "# we start with a random policy\n",
    "policy_0 = np.ones([\n",
    "    lake_env.observation_space.n,\n",
    "    lake_env.action_space.n\n",
    "])\n",
    "policy_0 = policy_0 / lake_env.action_space.n\n",
    "\n",
    "# we will now evaluate the random policy, and obtain its associated value function\n",
    "initial_V = np.zeros(lake_env.observation_space.n)\n",
    "V_0 = policy_evaluation(lake_env, policy_0, initial_V, gamma=gamma)\n",
    "\n",
    "# then we will do one step of policy improvement\n",
    "policy_1, policy_stable = policy_improvement(lake_env, policy_0, V_0, gamma=gamma)\n",
    "\n",
    "# and see how the value function looks like for the improved policy!\n",
    "V_1 = policy_evaluation(lake_env, policy_1, initial_V, gamma=gamma)\n",
    "\n",
    "fig, axes = plt.subplots(nrows=2, ncols=2, figsize=(10, 6))\n",
    "fig.suptitle(f'policy_stable = {policy_stable}')\n",
    "axes[0, 0].set_title('$\\pi_0(a | s)$')\n",
    "axes[0, 1].set_title('$v_{\\pi_0}(s)$')\n",
    "axes[1, 0].set_title('$\\pi_1(a | s)$')\n",
    "axes[1, 1].set_title('$v_{\\pi_1}(s)$')\n",
    "\n",
    "plot_policy(axes[0, 0], lake_env, policy_0)\n",
    "plot_value_function(axes[0, 1], lake_env, V_0)\n",
    "plot_policy(axes[1, 0], lake_env, policy_1)\n",
    "plot_value_function(axes[1, 1], lake_env, V_1)\n",
    "plt.tight_layout()\n",
    "plt.show()"
   ]
  },
  {
   "cell_type": "markdown",
   "metadata": {},
   "source": [
    "## (3) Policy Iteration (2 points)\n",
    "\n",
    "This one should be easy now -- if you have correctly implemented the evaluation and the improvement algorithms above..."
   ]
  },
  {
   "cell_type": "code",
   "execution_count": 15,
   "metadata": {},
   "outputs": [],
   "source": [
    "def policy_iteration(env, policy, gamma):\n",
    "    \"\"\"\n",
    "    Policy Iteration\n",
    "    \n",
    "    Args:\n",
    "        env: the openai gym environment\n",
    "        policy: the policy to be evaluated\n",
    "        gamma: the discount factor\n",
    "    \n",
    "    Returns:\n",
    "        a tuple consisting of\n",
    "        the optimal policy\n",
    "        and the respective value function\n",
    "    \"\"\"\n",
    "    V = np.zeros(env.observation_space.n)\n",
    "    while True: \n",
    "        V = policy_evaluation(env, policy, V, gamma)\n",
    "        policy, stablility = policy_improvement(env, policy, V, gamma)\n",
    "        \n",
    "        if stablility:\n",
    "            return policy, V\n",
    "    return policy, V\n",
    "    "
   ]
  },
  {
   "cell_type": "markdown",
   "metadata": {},
   "source": [
    "### Run DP Policy Iteration\n",
    "\n",
    "Next, let's improve a random policy and compute the optimal policy by using  policy iteration."
   ]
  },
  {
   "cell_type": "code",
   "execution_count": 16,
   "metadata": {},
   "outputs": [
    {
     "data": {
      "image/png": "[encoded data removed]",
      "text/plain": [
       "<Figure size 432x288 with 2 Axes>"
      ]
     },
     "metadata": {
      "needs_background": "light"
     },
     "output_type": "display_data"
    }
   ],
   "source": [
    "# let's create a random policy\n",
    "policy = np.ones([lake_env.observation_space.n, lake_env.action_space.n]) / lake_env.action_space.n\n",
    "\n",
    "# and now let's compute an optimal policy via the policy iteration algorithm\n",
    "policy, value_function = policy_iteration(lake_env, policy, gamma=0.99)\n",
    "\n",
    "fig, axes = plt.subplots(ncols=2)\n",
    "plot_policy(axes[0], lake_env, policy)\n",
    "plot_value_function(axes[1], lake_env, value_function)\n",
    "plt.show()"
   ]
  },
  {
   "cell_type": "markdown",
   "metadata": {},
   "source": [
    "## (4) Value Iteration (6 points)\n",
    "\n",
    "Implement the value iteration algorithm."
   ]
  },
  {
   "cell_type": "code",
   "execution_count": 17,
   "metadata": {},
   "outputs": [],
   "source": [
    "def one_step_lookahead(env, state, V, gamma):\n",
    "    A = np.zeros(env.action_space.n)\n",
    "    # TODO helper function that computes the values of all actions, given 'state' and current 'V'\n",
    "    for a in range(env.action_space.n):\n",
    "        for prob, next_state, reward, done in env.env.P[state][a]:\n",
    "            A[a] += prob * (reward + gamma * V[next_state]) \n",
    "            \n",
    "    return A\n",
    "\n",
    "def value_iteration(env, gamma, theta=1e-8):\n",
    "    \"\"\"\n",
    "    Value Iteration\n",
    "    \n",
    "    Args:\n",
    "        env: the openai gym environment\n",
    "        gamma: discount factor gamma\n",
    "        theta: the stopping criterion\n",
    "    \n",
    "    Returns:\n",
    "        a tuple consisting of\n",
    "        the optimal policy\n",
    "        and the respective value function\n",
    "    \"\"\"\n",
    "    V = np.zeros(env.observation_space.n)\n",
    "    # TODO implement value iteration algorithm here\n",
    "\n",
    "    policy = np.zeros([env.observation_space.n, env.action_space.n])\n",
    "    # TODO derive the optimal policy from the optimal value function\n",
    "    # that you computed above\n",
    "    \n",
    "    while True:\n",
    "        delta = 0\n",
    "\n",
    "        for s in env.P:\n",
    "            A = one_step_lookahead(env, s, V, gamma)\n",
    "            best_action_value = np.max(A)\n",
    "            delta = max(delta, np.abs(best_action_value - V[s]))\n",
    "            V[s] = best_action_value\n",
    "\n",
    "        if delta < theta: break\n",
    "    \n",
    "    policy = np.zeros([env.observation_space.n, env.action_space.n])\n",
    "    # TODO derive the optimal policy from the optimal value function\n",
    "    # that you computed above\n",
    "    for s in env.P:\n",
    "        A = one_step_lookahead(env, s, V, gamma)\n",
    "        best_action = np.argmax(A)\n",
    "        policy[s, best_action] = 1.0\n",
    "        \n",
    "    return policy, V"
   ]
  },
  {
   "cell_type": "markdown",
   "metadata": {
    "tags": []
   },
   "source": [
    "### Run DP Value Iteration\n",
    "\n",
    "Finally, let's compute the optimal policy by using value iteration. Obviously the result should be very similar to the policy interation algorithm."
   ]
  },
  {
   "cell_type": "code",
   "execution_count": 18,
   "metadata": {},
   "outputs": [
    {
     "data": {
      "image/png": "[encoded data removed]",
      "text/plain": [
       "<Figure size 432x288 with 2 Axes>"
      ]
     },
     "metadata": {
      "needs_background": "light"
     },
     "output_type": "display_data"
    }
   ],
   "source": [
    "# let's redo this with value iteration...\n",
    "opt_policy, opt_value_function = value_iteration(lake_env, gamma=0.99)\n",
    "\n",
    "fig, axes = plt.subplots(ncols=2)\n",
    "plot_policy(axes[0], lake_env, opt_policy)\n",
    "plot_value_function(axes[1], lake_env, opt_value_function)\n",
    "plt.show()"
   ]
  },
  {
   "cell_type": "code",
   "execution_count": null,
   "metadata": {},
   "outputs": [],
   "source": []
  }
 ],
 "metadata": {
  "kernelspec": {
   "display_name": "Python 3 (ipykernel)",
   "language": "python",
   "name": "python3"
  },
  "language_info": {
   "codemirror_mode": {
    "name": "ipython",
    "version": 3
   },
   "file_extension": ".py",
   "mimetype": "text/x-python",
   "name": "python",
   "nbconvert_exporter": "python",
   "pygments_lexer": "ipython3",
   "version": "3.10.6"
  }
 },
 "nbformat": 4,
 "nbformat_minor": 4
}
