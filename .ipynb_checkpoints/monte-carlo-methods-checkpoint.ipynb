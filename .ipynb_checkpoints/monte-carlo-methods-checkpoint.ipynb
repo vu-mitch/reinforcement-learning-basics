{
 "cells": [
  {
   "cell_type": "markdown",
   "metadata": {},
   "source": [
    "# Monte Carlo Methods\n",
    "\n",
    "<div class=\"alert alert-info\">\n",
    "\n",
    "- Implement Episode Generation (2 Points)\n",
    "- Implement MC Policy Evaluation (6 Points)\n",
    "- Implement MC On-Policy Control (6 Points)\n",
    "- Analysis of MC on Fishlake (1 Point)\n"
   ]
  },
  {
   "cell_type": "markdown",
   "metadata": {},
   "source": [
    "Some# Blackjack - A Model-free Environment, Monte Carlo Methods\n",
    "\n",
    "Let us now try Monte Carlo methods on a model-free environment (where it is very hard / impossible to use Dynamic Programming). We will use the game of Black Jack, as presented in the lecture. In general, MC methods are model free, but you might have used some convenience functions\n",
    "\n",
    "<div class=\"alert alert-info\">\n",
    "\n",
    "The following description is adapted from the environment description at https://github.com/openai/gym/blob/master/gym/envs/toy_text/blackjack.py:\n",
    "\n",
    "    Blackjack is a card game where the goal is to obtain cards that sum to as\n",
    "    near as possible to 21 without going over. They're playing against dealer\n",
    "    that follows a fixed strategy.\n",
    "    \n",
    "    Face cards (Jack, Queen, King) have point value 10.\n",
    "    Aces can either count as 11 or 1, and it's called 'usable' at 11.\n",
    "    \n",
    "    This game is played with an infinite deck (drawing with replacement).\n",
    "    The game starts with each (player and dealer) having one face up and one\n",
    "    face down card.\n",
    "    \n",
    "    The player can request additional cards (hit=1) until they decide to stop\n",
    "    (stick=0) or exceed 21 (bust).\n",
    "    \n",
    "    After the player sticks, the dealer reveals their facedown card, and draws\n",
    "    until their sum is 17 or greater.\n",
    "    \n",
    "    If the dealer goes bust the player wins.\n",
    "    If neither player nor dealer busts, the outcome (win, lose, draw) is\n",
    "    decided by whose sum is closer to 21.\n",
    "    \n",
    "    The reward for winning is +1, drawing is 0, and losing is -1.\n",
    "    \n",
    "    The observation is a 3-tuple of:\n",
    "    \n",
    "    the players current sum,\n",
    "    the dealer's one showing card (1-10 where 1 is ace),\n",
    "    and whether or not the player holds a usable ace (0 or 1).\n",
    "    \n",
    "    This environment corresponds to the version of the blackjack problem\n",
    "    described in Example 5.1 in Reinforcement Learning: An Introduction\n",
    "    by Sutton and Barto."
   ]
  },
  {
   "cell_type": "markdown",
   "metadata": {},
   "source": [
    "### Preliminaries\n",
    "\n",
    "What follows are the imports, the instantiation of the BlackJack gym-environment, and the introduction of some helper functions. You will have to run these cells first, before starting to implement and run your algorithms."
   ]
  },
  {
   "cell_type": "code",
   "execution_count": 1,
   "metadata": {},
   "outputs": [],
   "source": [
    "import matplotlib.pyplot as plt\n",
    "import numpy as np\n",
    "import gym\n",
    "import fishlake_updated as fishlake\n",
    "import blackjack_convenience as blackjack\n",
    "\n",
    "from collections import defaultdict\n",
    "\n",
    "np.set_printoptions(precision=4, suppress=True, threshold=200)"
   ]
  },
  {
   "cell_type": "markdown",
   "metadata": {},
   "source": [
    "### Let's play some BlackJack..."
   ]
  },
  {
   "cell_type": "code",
   "execution_count": 3,
   "metadata": {},
   "outputs": [
    {
     "name": "stdout",
     "output_type": "stream",
     "text": [
      "Size of the action space: 2\n",
      "Structure/sizes of the observation space: Tuple(Discrete(32), Discrete(11), Discrete(2))\n",
      "(20, 3, False)\n"
     ]
    }
   ],
   "source": [
    "# the BlackJack environment does **not** give access to the dynamics or the size of the state space\n",
    "# so there is no (easy) way we can use dynamic programming here, we are forced to use model-free methods\n",
    "# the BlackJack environment has no 'render()' function either --- printing the state encoding is enough\n",
    "blackjack_env = gym.make('Blackjack-v1')\n",
    "\n",
    "# we can query the size of the action space:\n",
    "print('Size of the action space:', blackjack_env.action_space.n)\n",
    "\n",
    "# we can (indirectly) query the size of the observation space:\n",
    "print('Structure/sizes of the observation space:', blackjack_env.observation_space)\n",
    "\n",
    "# we can seed the PRNG of the environment for:\n",
    "# - reproducability\n",
    "# - easier debugging\n",
    "# the PRNG is used by the environment to determine the order of the cards\n",
    "blackjack_env.seed(1234)\n",
    "\n",
    "# to reset the environment into its inital state, we can call 'reset()'\n",
    "state = blackjack_env.reset()\n",
    "\n",
    "# let's look at the components of the state encoding of the initial state\n",
    "print(state)"
   ]
  },
  {
   "cell_type": "markdown",
   "metadata": {},
   "source": [
    "### The state encoding desugars into this ..."
   ]
  },
  {
   "cell_type": "code",
   "execution_count": 4,
   "metadata": {},
   "outputs": [],
   "source": [
    "(player_score, dealer_score, usable_ace) = state"
   ]
  },
  {
   "cell_type": "markdown",
   "metadata": {},
   "source": [
    " ... but this is not really important for us!\n",
    "Because the state is already a tuple, we will just use this tuple as a key into several dictionaries. They will store various value function approximations, policies, as well as support data."
   ]
  },
  {
   "cell_type": "markdown",
   "metadata": {},
   "source": [
    "## Defining Default BlackJack Policies\n",
    "\n",
    "What follows are functions that generate basic policies."
   ]
  },
  {
   "cell_type": "code",
   "execution_count": 5,
   "metadata": {},
   "outputs": [],
   "source": [
    "# we include here the example policy that was also used in class:\n",
    "def create_example_policy():\n",
    "    \"\"\"\n",
    "    Create a policy that sticks if the player score is >= 20 and hits otherwise.\n",
    "    \"\"\"\n",
    "    policy = dict()\n",
    "    for score in range(4, 22):  # 4 - 21\n",
    "        for dealer_score in range(1, 11):  # 1 - 10\n",
    "            for useable_ace in [True, False]:\n",
    "                observation = (score, dealer_score, useable_ace)\n",
    "                if score >= 20:\n",
    "                    # stick\n",
    "                    policy[observation] = np.array([1.0, 0.0])\n",
    "                else:\n",
    "                    # hit\n",
    "                    policy[observation] = np.array([0.0, 1.0])\n",
    "    return policy\n",
    "\n",
    "# and the random policy that chooses an action with equal probability\n",
    "def create_random_policy():\n",
    "    \"\"\"\n",
    "    Create the random policy.\n",
    "    \"\"\"\n",
    "    policy = dict()\n",
    "    \n",
    "    for score in range(4, 22):\n",
    "        for dealer_score in range(1, 11):\n",
    "            for useable_ace in [True, False]:\n",
    "                observation = (score, dealer_score, useable_ace)\n",
    "                policy[observation] = np.array([0.5, 0.5])   \n",
    "    return policy"
   ]
  },
  {
   "cell_type": "markdown",
   "metadata": {},
   "source": [
    "---\n",
    "## (1) Episode Generation (2 Points)\n",
    "Here, you will define a helper function that will generate an episode, given an environment and a policy."
   ]
  },
  {
   "cell_type": "code",
   "execution_count": 6,
   "metadata": {},
   "outputs": [],
   "source": [
    "def generate_episode(rng, env, policy):\n",
    "    # implement a helper function to generate an episode, given an environment and a policy\n",
    "    # an episode is a list of (state, action, reward) tuples:\n",
    "    # episode = [\n",
    "    #    (state_1, action_1, reward_2),\n",
    "    #    (state_2, action_2, reward_3),\n",
    "    #    ...\n",
    "    #    (state_T-1, action_T-1, reward_T)\n",
    "    # ]\n",
    "    state = env.reset()\n",
    "    actions = np.arange(env.action_space.n)\n",
    "    episode = []\n",
    "    done = False\n",
    "    \n",
    "    while not done:\n",
    "        action = rng.choice(actions, p=policy[state])\n",
    "        next_state, reward, done, info = env.step(action)\n",
    "        episode.append((state, action, reward))\n",
    "        state = next_state\n",
    "        \n",
    "    return episode"
   ]
  },
  {
   "cell_type": "code",
   "execution_count": 7,
   "metadata": {},
   "outputs": [
    {
     "name": "stdout",
     "output_type": "stream",
     "text": [
      "(12, 10, True) 1 0.0\n",
      "(13, 10, True) 1 0.0\n",
      "(18, 10, True) 1 0.0\n",
      "(18, 10, False) 1 -1.0\n"
     ]
    }
   ],
   "source": [
    "rng = np.random.default_rng(1245)\n",
    "blackjack_env.seed(4321)\n",
    "random_policy = create_random_policy()\n",
    "episode = generate_episode(rng, blackjack_env, random_policy)\n",
    "for s, a, r in episode:\n",
    "    print(s, a, r)"
   ]
  },
  {
   "cell_type": "markdown",
   "metadata": {
    "tags": []
   },
   "source": [
    "## (2) Monte Carlo Evaluation (6 Points)\n",
    "Ler's get started: implement the every-visit MC policy evaluation algorithm."
   ]
  },
  {
   "cell_type": "code",
   "execution_count": 8,
   "metadata": {},
   "outputs": [],
   "source": [
    "def getReturn(episode, gamma):\n",
    "    G = 0    \n",
    "    for i, (state, action, reward) in enumerate(episode):\n",
    "        G += (gamma**i) * reward\n",
    "    \n",
    "    return G"
   ]
  },
  {
   "cell_type": "code",
   "execution_count": 9,
   "metadata": {},
   "outputs": [],
   "source": [
    "def mc_policy_evaluation(rng, env, policy, n_episodes, gamma=1.0, n_print_every=10 ** 4):\n",
    "    \"\"\"\n",
    "    Monte Carlo prediction algorithm, which calculates the value function\n",
    "    for a given policy\n",
    "    \n",
    "    Args:\n",
    "        env: the openai gym environment\n",
    "        policy: the policy to be evaluated\n",
    "        n_episodes: number of episodes to sample\n",
    "        gamma: the discount factor\n",
    "    \n",
    "    Returns:\n",
    "        the value function associated with 'policy'\n",
    "    \"\"\"\n",
    "    # a note on the value function estimate 'V', 'G_sum' and 'G_count':\n",
    "    # those functions must be stored as a 'dict' or 'defaultdict', where\n",
    "    #\n",
    "    # 'key' is a tuple encoding the state (player_sum, dealer_sum, useable_ace)\n",
    "    #\n",
    "    # and\n",
    "    #\n",
    "    # 'value' is the value of this state\n",
    "    #\n",
    "    # print(V) should yield something similar to this (except for the actual numerical values):\n",
    "    #\n",
    "    #     defaultdict(float,\n",
    "    #             {(21, 10, True): 0.8863134657836644,\n",
    "    #              (7, 10, False): -0.563816604708798,\n",
    "    #              (11, 10, False): -0.10879368658399098,\n",
    "    #              (20, 10, False): 0.43548387096774194,\n",
    "    #              (13, 7, True): -0.3431372549019608,\n",
    "    #              (12, 7, False): -0.5573080967402734,\n",
    "    #              (21, 7, False): 0.9257294429708223,\n",
    "    #              (13, 6, False): -0.5404255319148936,\n",
    "    #              (19, 6, False): -0.6908077994428969,\n",
    "    #              ...})\n",
    "    #\n",
    "    # please make sure you use this format, as only then the very convenient plotting function will work\n",
    "    #\n",
    "    # for more info checkout the documentation on 'defaultdict':\n",
    "    # https://docs.python.org/3/library/collections.html?highlight=defaultdict#collections.defaultdict\n",
    "    #\n",
    "    # if this is too much voodoo for you, you can use 'dict', but you have to do extra steps there\n",
    "    # in case a key does not exist in the dictionary yet!\n",
    "    G_sum = defaultdict(lambda: 0.)\n",
    "    G_count = defaultdict(lambda: 0.)\n",
    "    V = defaultdict(lambda: 0.)\n",
    "        \n",
    "    for i_episode in range(1, n_episodes + 1):\n",
    "        if i_episode % n_print_every == 0:\n",
    "            print(\"\\rEpisode {}/{}.\".format(i_episode, n_episodes))\n",
    "\n",
    "        # TODO: generate an episode\n",
    "        episode = generate_episode(rng, env, policy)\n",
    "\n",
    "        # TODO: compute return G, update G_sum, G_count\n",
    "        # TODO: compute the value function estimate 'V' from 'G_sum' and 'G_count'\n",
    "        for idx, (state, action, reward) in enumerate(episode):\n",
    "            G = getReturn(episode[idx:], gamma)\n",
    "            G_count[state] += 1\n",
    "            G_sum[state] += G\n",
    "            V[state] = G_sum[state] / G_count[state]\n",
    "    \n",
    "    return V"
   ]
  },
  {
   "cell_type": "markdown",
   "metadata": {},
   "source": [
    "### Run MC Policy Evaluation for Black Jack\n",
    "Okay, let's now run the implemented algorithm on the Black Jack environment. You already know from the lecture slides what the output should roughly look like."
   ]
  },
  {
   "cell_type": "code",
   "execution_count": 10,
   "metadata": {},
   "outputs": [
    {
     "name": "stdout",
     "output_type": "stream",
     "text": [
      "Episode 10000/50000.\n",
      "Episode 20000/50000.\n",
      "Episode 30000/50000.\n",
      "Episode 40000/50000.\n",
      "Episode 50000/50000.\n"
     ]
    }
   ],
   "source": [
    "# let's create the example policy\n",
    "example_policy = create_example_policy()\n",
    "\n",
    "# TODO: for debugging, it might be a good idea to set this to a smaller value -> only temporarily though!\n",
    "# set it back to (5 * 10 ** 4) before you re-run and submit your notebook!\n",
    "n_episodes = 5 * 10 ** 4\n",
    "\n",
    "seed_sequence = np.random.SeedSequence(1234)\n",
    "rng = np.random.default_rng(seed_sequence)\n",
    "\n",
    "# and now let's see how good the example policy really is\n",
    "policy_value = mc_policy_evaluation(rng, blackjack_env, example_policy, n_episodes=n_episodes)"
   ]
  },
  {
   "cell_type": "code",
   "execution_count": 11,
   "metadata": {},
   "outputs": [
    {
     "data": {
      "text/plain": [
       "<Figure size 432x288 with 0 Axes>"
      ]
     },
     "metadata": {},
     "output_type": "display_data"
    },
    {
     "data": {
      "image/png": "[encoded data removed]",
      "text/plain": [
       "<Figure size 576x576 with 4 Axes>"
      ]
     },
     "metadata": {
      "needs_background": "light"
     },
     "output_type": "display_data"
    }
   ],
   "source": [
    "blackjack.plot_value_function(policy_value, title=f\"Value Function after {n_episodes} Episodes\")"
   ]
  },
  {
   "cell_type": "markdown",
   "metadata": {},
   "source": [
    "## (3) Monte Carlo Control (6 Points)\n",
    "Implement the On-policy every-visit MC control for ε-soft policies algorithm."
   ]
  },
  {
   "cell_type": "code",
   "execution_count": 12,
   "metadata": {},
   "outputs": [],
   "source": [
    "def mc_control_epsilon_greedy(rng, env, initial_policy, n_episodes=100, gamma=1.0, epsilon=0.1, n_print_every=10 ** 4):\n",
    "    \"\"\"\n",
    "    On-policy every-visit MC control for ε-soft policies algorithm\n",
    "    Computes an optimal epsilon-greedy policy.\n",
    "    \n",
    "    Args:\n",
    "        env: the openai gym environment\n",
    "        initial_policy: the inital policy as a dict with the state as the key,\n",
    "                        and the values being numpy arrays that store the\n",
    "                        action selection probabilities\n",
    "        n_episodes: number of episodes to sample\n",
    "        gamma: the discount factor\n",
    "        epsilon: chance to sample a random action\n",
    "    \n",
    "    Returns:\n",
    "        a tuple (policy, Q)\n",
    "        opt_policy is a dict in the same format as the initial_policy\n",
    "        Q is a dict with the state as the key,\n",
    "        and an np.array as value, which contains the state-action values\n",
    "\"\"\"\n",
    "    \n",
    "    # see the note on datastructures in 'mc_policy_evaluation(...)'!\n",
    "    G_sum = defaultdict(lambda: np.zeros(env.action_space.n))\n",
    "    G_count = defaultdict(lambda: np.zeros(env.action_space.n))\n",
    "    \n",
    "    # The final action-value function.\n",
    "    # A nested dictionary that maps state -> (action -> action-value).\n",
    "    Q = defaultdict(lambda: np.zeros(env.action_space.n))\n",
    "    returns = defaultdict(lambda: list())\n",
    "    \n",
    "    # make a copy of the inital policy (it's bad style to change input parameters)\n",
    "    policy = {k: v.copy() for k, v in initial_policy.items()}\n",
    "    \n",
    "    for i_episode in range(1, n_episodes + 1):\n",
    "        if i_episode % n_print_every == 0:\n",
    "            print(\"\\rEpisode {}/{}.\".format(i_episode, n_episodes))\n",
    "\n",
    "        # TODO: generate an episode\n",
    "        episode = generate_episode(rng, env, policy)\n",
    "        # TODO: compute return G, update G_sum, G_count, and Q\n",
    "        for idx, (state, action, reward) in enumerate(episode):\n",
    "            G = getReturn(episode[idx:], gamma)\n",
    "            returns[(state, action)].append(G)\n",
    "            Q[state][action] = np.mean(returns[(state, action)])\n",
    "            \n",
    "        # TODO: derive an epsilon-soft policy from Q\n",
    "        for idx, (state, action, reward) in enumerate(episode):\n",
    "            best_action = np.argmax(Q[state])\n",
    "            \n",
    "            policy[state][:] = (epsilon/env.action_space.n)\n",
    "            policy[state][best_action] += 1 - epsilon\n",
    "        \n",
    "    return policy, Q"
   ]
  },
  {
   "cell_type": "markdown",
   "metadata": {},
   "source": [
    "### Run MC Control for Black Jack\n",
    "Finally, let's compute a better policy for the Black Jack game. One hint: the results may differ slightly from the lecture slides. They will also be different from the optimal policies in the book, as the ones in the book were computed with 'Exploring Starts'. Do not worry too much about it, but you can always try with a few more samples..."
   ]
  },
  {
   "cell_type": "code",
   "execution_count": 13,
   "metadata": {
    "tags": []
   },
   "outputs": [
    {
     "name": "stdout",
     "output_type": "stream",
     "text": [
      "Episode 10000/100000.\n",
      "Episode 20000/100000.\n",
      "Episode 30000/100000.\n",
      "Episode 40000/100000.\n",
      "Episode 50000/100000.\n",
      "Episode 60000/100000.\n",
      "Episode 70000/100000.\n",
      "Episode 80000/100000.\n",
      "Episode 90000/100000.\n",
      "Episode 100000/100000.\n",
      "Episode 10000/100000.\n",
      "Episode 20000/100000.\n",
      "Episode 30000/100000.\n",
      "Episode 40000/100000.\n",
      "Episode 50000/100000.\n",
      "Episode 60000/100000.\n",
      "Episode 70000/100000.\n",
      "Episode 80000/100000.\n",
      "Episode 90000/100000.\n",
      "Episode 100000/100000.\n"
     ]
    }
   ],
   "source": [
    "# here, we start from the example policy\n",
    "# policy = create_example_policy()\n",
    "n_episodes = 10 ** 5\n",
    "n_print_every = 10 ** 4\n",
    "initial_policy = create_random_policy()\n",
    "\n",
    "# and now run our MC control algorithm\n",
    "opt_policy, opt_Q = mc_control_epsilon_greedy(\n",
    "    rng,\n",
    "    blackjack_env,\n",
    "    initial_policy,\n",
    "    n_episodes=n_episodes,\n",
    "    epsilon=0.1,\n",
    "    n_print_every=n_print_every\n",
    ")\n",
    "\n",
    "# determine how good our policy is, in terms of v(s)\n",
    "opt_V = mc_policy_evaluation(\n",
    "    rng,\n",
    "    blackjack_env,\n",
    "    opt_policy,\n",
    "    n_episodes=n_episodes,\n",
    "    n_print_every=n_print_every\n",
    ")"
   ]
  },
  {
   "cell_type": "code",
   "execution_count": 14,
   "metadata": {},
   "outputs": [
    {
     "data": {
      "image/png": "[encoded data removed]",
      "text/plain": [
       "<Figure size 576x576 with 2 Axes>"
      ]
     },
     "metadata": {
      "needs_background": "light"
     },
     "output_type": "display_data"
    },
    {
     "data": {
      "text/plain": [
       "<Figure size 432x288 with 0 Axes>"
      ]
     },
     "metadata": {},
     "output_type": "display_data"
    },
    {
     "data": {
      "image/png": "[encoded data removed]",
      "text/plain": [
       "<Figure size 576x576 with 4 Axes>"
      ]
     },
     "metadata": {
      "needs_background": "light"
     },
     "output_type": "display_data"
    }
   ],
   "source": [
    "# plot the policy\n",
    "blackjack.plot_policy(opt_policy)\n",
    "\n",
    "# and its associated value function\n",
    "blackjack.plot_value_function(opt_V)"
   ]
  },
  {
   "cell_type": "markdown",
   "metadata": {},
   "source": [
    "---\n",
    "# Fishlake Revisited with Monte Carlo methods\n",
    "We will now go back to the Fishlake and run the MC algorithms on this problem. You will need to answer a textual question, after you tried MC on the Fishlake environment."
   ]
  },
  {
   "cell_type": "markdown",
   "metadata": {},
   "source": [
    "In order to run MC, we will need a few convenience functions for converting a value function and policy (a dict in the MC algorithms) to arrays, so we can re-use the existing plotting functions for the Fishlake environment."
   ]
  },
  {
   "cell_type": "code",
   "execution_count": 15,
   "metadata": {},
   "outputs": [],
   "source": [
    "def d2a_policy(env, policy):\n",
    "    policy_array = np.zeros((env.observation_space.n, env.action_space.n))\n",
    "    for state, ap in policy.items():\n",
    "        policy_array[state, :] = ap\n",
    "    return policy_array\n",
    "\n",
    "def d2a_V(env, V):\n",
    "    V_array = np.zeros(env.observation_space.n)\n",
    "    for state, value in V.items():\n",
    "        V_array[state] = value\n",
    "    return V_array\n",
    "\n",
    "def fishlake_random_policy(env):\n",
    "    policy = defaultdict()\n",
    "    for state in range(env.observation_space.n):\n",
    "        policy[state] = np.ones(env.action_space.n) / env.action_space.n\n",
    "    return policy    "
   ]
  },
  {
   "cell_type": "markdown",
   "metadata": {},
   "source": [
    "## Run MC Evaluation on Fishlake"
   ]
  },
  {
   "cell_type": "code",
   "execution_count": 16,
   "metadata": {},
   "outputs": [],
   "source": [
    "# we start with the smaller lake\n",
    "small_lake_env = gym.make('FishlakeStreamy-v0')\n",
    "small_lake_env.seed(1234)\n",
    "\n",
    "# let's create a random policy\n",
    "random_policy = fishlake_random_policy(small_lake_env)\n",
    "\n",
    "# and now let's see how good our policy is\n",
    "rng = np.random.default_rng(4321)\n",
    "V_dict = mc_policy_evaluation(rng, small_lake_env, random_policy, 200)"
   ]
  },
  {
   "cell_type": "code",
   "execution_count": 17,
   "metadata": {},
   "outputs": [
    {
     "data": {
      "image/png": "[encoded data removed]",
      "text/plain": [
       "<Figure size 432x288 with 2 Axes>"
      ]
     },
     "metadata": {
      "needs_background": "light"
     },
     "output_type": "display_data"
    }
   ],
   "source": [
    "# let's plot this\n",
    "random_policy_array = d2a_policy(small_lake_env, random_policy)\n",
    "V_array = d2a_V(small_lake_env, V_dict)\n",
    "\n",
    "fig, axes = plt.subplots(ncols=2)\n",
    "fishlake.plot_policy(axes[0], small_lake_env, random_policy_array)\n",
    "fishlake.plot_value_function(axes[1], small_lake_env, V_array)\n",
    "plt.show()"
   ]
  },
  {
   "cell_type": "markdown",
   "metadata": {},
   "source": [
    "## Run MC Control on Fishlake"
   ]
  },
  {
   "cell_type": "code",
   "execution_count": 18,
   "metadata": {},
   "outputs": [
    {
     "name": "stdout",
     "output_type": "stream",
     "text": [
      "Episode 10000/10000.\n",
      "Episode 10000/10000.\n"
     ]
    }
   ],
   "source": [
    "# we start with the smaller lake\n",
    "small_lake_env = gym.make('FishlakeStreamy-v0')\n",
    "small_lake_env.seed(1234)\n",
    "\n",
    "# let's create a random policy\n",
    "initial_policy = fishlake_random_policy(small_lake_env)\n",
    "rng = np.random.default_rng(4321)\n",
    "opt_policy, opt_Q = mc_control_epsilon_greedy(\n",
    "    rng,\n",
    "    small_lake_env,\n",
    "    initial_policy,\n",
    "    n_episodes=10 ** 4,\n",
    "    epsilon=0.1\n",
    ")\n",
    "\n",
    "# and now let's see how good our policy is\n",
    "opt_V = mc_policy_evaluation(rng, small_lake_env, opt_policy, n_episodes=10 ** 4)"
   ]
  },
  {
   "cell_type": "code",
   "execution_count": 19,
   "metadata": {},
   "outputs": [
    {
     "data": {
      "image/png": "[encoded data removed]",
      "text/plain": [
       "<Figure size 432x288 with 2 Axes>"
      ]
     },
     "metadata": {
      "needs_background": "light"
     },
     "output_type": "display_data"
    }
   ],
   "source": [
    "# let's plot this\n",
    "opt_policy_array = d2a_policy(small_lake_env, opt_policy)\n",
    "opt_V_array = d2a_V(small_lake_env, opt_V)\n",
    "\n",
    "fig, axes = plt.subplots(ncols=2)\n",
    "fishlake.plot_policy(axes[0], small_lake_env, opt_policy_array)\n",
    "fishlake.plot_value_function(axes[1], small_lake_env, opt_V_array)\n",
    "plt.show()"
   ]
  },
  {
   "cell_type": "markdown",
   "metadata": {},
   "source": [
    "### (4) Differences DP/MC (1 Point)\n",
    "Compare the results from MC Evaluation and Control with the results you got via dynamic programming in the last exercise. What could be the reasons for the differences you are seeing?"
   ]
  },
  {
   "cell_type": "markdown",
   "metadata": {},
   "source": [
    "Answer: TODO"
   ]
  },
  {
   "cell_type": "code",
   "execution_count": null,
   "metadata": {},
   "outputs": [],
   "source": []
  }
 ],
 "metadata": {
  "kernelspec": {
   "display_name": "Python 3 (ipykernel)",
   "language": "python",
   "name": "python3"
  },
  "language_info": {
   "codemirror_mode": {
    "name": "ipython",
    "version": 3
   },
   "file_extension": ".py",
   "mimetype": "text/x-python",
   "name": "python",
   "nbconvert_exporter": "python",
   "pygments_lexer": "ipython3",
   "version": "3.10.6"
  }
 },
 "nbformat": 4,
 "nbformat_minor": 4
}
